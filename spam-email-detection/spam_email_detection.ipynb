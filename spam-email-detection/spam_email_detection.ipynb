{
 "cells": [
  {
   "cell_type": "code",
   "execution_count": 9,
   "metadata": {},
   "outputs": [
    {
     "name": "stdout",
     "output_type": "stream",
     "text": [
      "✅ Dataset loaded! Total rows: 5728\n",
      "                                                text  spam\n",
      "0  Subject: naturally irresistible your corporate...     1\n",
      "1  Subject: the stock trading gunslinger  fanny i...     1\n",
      "2  Subject: unbelievable new homes made easy  im ...     1\n",
      "3  Subject: 4 color printing special  request add...     1\n",
      "4  Subject: do not have money , get software cds ...     1\n",
      "Columns in dataset: Index(['text', 'spam'], dtype='object')\n"
     ]
    }
   ],
   "source": [
    "import pandas as pd\n",
    "\n",
    "# ✅ Load dataset\n",
    "file_path = r\"C:\\Users\\deepi\\spam-email-detection\\spam.csv\"  # Update path if needed\n",
    "df = pd.read_csv(file_path, encoding=\"latin-1\")\n",
    "\n",
    "# ✅ Print dataset size\n",
    "print(f\"✅ Dataset loaded! Total rows: {len(df)}\")\n",
    "\n",
    "# ✅ Show first few rows\n",
    "print(df.head())\n",
    "\n",
    "# ✅ Show column names\n",
    "print(\"Columns in dataset:\", df.columns)\n"
   ]
  },
  {
   "cell_type": "code",
   "execution_count": 11,
   "metadata": {},
   "outputs": [
    {
     "name": "stdout",
     "output_type": "stream",
     "text": [
      "Missing values in 'text': 0\n",
      "Missing values in 'spam': 0\n",
      "Number of rows with empty text: 0\n",
      "✅ Dataset ready for processing! Total rows: 5728\n",
      "                                                text  spam\n",
      "0  Subject: naturally irresistible your corporate...     1\n",
      "1  Subject: the stock trading gunslinger  fanny i...     1\n",
      "2  Subject: unbelievable new homes made easy  im ...     1\n",
      "3  Subject: 4 color printing special  request add...     1\n",
      "4  Subject: do not have money , get software cds ...     1\n"
     ]
    }
   ],
   "source": [
    "# ✅ Check for missing or empty values\n",
    "print(\"Missing values in 'text':\", df['text'].isnull().sum())\n",
    "print(\"Missing values in 'spam':\", df['spam'].isnull().sum())\n",
    "\n",
    "# ✅ Check for empty strings in 'text'\n",
    "print(\"Number of rows with empty text:\", (df['text'].str.strip() == '').sum())\n",
    "\n",
    "# ✅ Print dataset size after cleaning\n",
    "print(f\"✅ Dataset ready for processing! Total rows: {len(df)}\")\n",
    "print(df.head())\n"
   ]
  },
  {
   "cell_type": "code",
   "execution_count": 13,
   "metadata": {},
   "outputs": [
    {
     "name": "stdout",
     "output_type": "stream",
     "text": [
      "Missing values in 'text': 0\n",
      "Missing values in 'spam': 0\n",
      "Number of rows with empty text: 0\n",
      "✅ Dataset ready for processing! Total rows: 5728\n",
      "                                                text  spam\n",
      "0  Subject: naturally irresistible your corporate...     1\n",
      "1  Subject: the stock trading gunslinger  fanny i...     1\n",
      "2  Subject: unbelievable new homes made easy  im ...     1\n",
      "3  Subject: 4 color printing special  request add...     1\n",
      "4  Subject: do not have money , get software cds ...     1\n"
     ]
    }
   ],
   "source": [
    "# ✅ Check for missing or empty values\n",
    "print(\"Missing values in 'text':\", df['text'].isnull().sum())\n",
    "print(\"Missing values in 'spam':\", df['spam'].isnull().sum())\n",
    "\n",
    "# ✅ Check for empty strings in 'text'\n",
    "print(\"Number of rows with empty text:\", (df['text'].str.strip() == '').sum())\n",
    "\n",
    "# ✅ Print dataset size after cleaning\n",
    "print(f\"✅ Dataset ready for processing! Total rows: {len(df)}\")\n",
    "print(df.head())\n"
   ]
  },
  {
   "cell_type": "code",
   "execution_count": 15,
   "metadata": {
    "scrolled": true
   },
   "outputs": [
    {
     "name": "stdout",
     "output_type": "stream",
     "text": [
      "✅ Model trained and saved successfully!\n"
     ]
    }
   ],
   "source": [
    "import joblib\n",
    "from sklearn.naive_bayes import MultinomialNB\n",
    "from sklearn.model_selection import train_test_split\n",
    "\n",
    "# ✅ Train-Test Split\n",
    "X_train, X_test, y_train, y_test = train_test_split(X, df['spam'], test_size=0.2, random_state=42)\n",
    "\n",
    "# ✅ Train Model\n",
    "model = MultinomialNB()\n",
    "model.fit(X_train, y_train)\n",
    "\n",
    "# ✅ Save Model & Vectorizer\n",
    "joblib.dump(model, \"spam_classifier.pkl\")\n",
    "joblib.dump(vectorizer, \"vectorizer.pkl\")\n",
    "\n",
    "print(\"✅ Model trained and saved successfully!\")\n"
   ]
  },
  {
   "cell_type": "code",
   "execution_count": 16,
   "metadata": {},
   "outputs": [
    {
     "name": "stdout",
     "output_type": "stream",
     "text": [
      "Prediction: Spam\n"
     ]
    }
   ],
   "source": [
    "import joblib\n",
    "\n",
    "# ✅ Load trained model and vectorizer\n",
    "model = joblib.load(\"spam_classifier.pkl\")\n",
    "vectorizer = joblib.load(\"vectorizer.pkl\")\n",
    "\n",
    "# ✅ Test with a sample email\n",
    "sample_email = [\"You won a free lottery! Claim now.\"]\n",
    "\n",
    "# ✅ Convert text to vector\n",
    "email_vectorized = vectorizer.transform(sample_email)\n",
    "\n",
    "# ✅ Predict spam or not spam\n",
    "prediction = model.predict(email_vectorized)[0]\n",
    "\n",
    "# ✅ Print result\n",
    "print(\"Prediction:\", \"Spam\" if prediction == 1 else \"Not Spam\")\n"
   ]
  },
  {
   "cell_type": "code",
   "execution_count": 17,
   "metadata": {},
   "outputs": [
    {
     "name": "stdout",
     "output_type": "stream",
     "text": [
      "Response: {'prediction': 'Spam'}\n"
     ]
    }
   ],
   "source": [
    "import requests\n",
    "\n",
    "url = \"http://127.0.0.1:5000/predict\"\n",
    "data = {\"email_text\": \"Congratulations! You won a free iPhone. Click here to claim.\"}\n",
    "\n",
    "response = requests.post(url, json=data)\n",
    "\n",
    "print(\"Response:\", response.json())\n"
   ]
  },
  {
   "cell_type": "code",
   "execution_count": null,
   "metadata": {},
   "outputs": [],
   "source": []
  }
 ],
 "metadata": {
  "kernelspec": {
   "display_name": "Python 3",
   "language": "python",
   "name": "python3"
  },
  "language_info": {
   "codemirror_mode": {
    "name": "ipython",
    "version": 3
   },
   "file_extension": ".py",
   "mimetype": "text/x-python",
   "name": "python",
   "nbconvert_exporter": "python",
   "pygments_lexer": "ipython3",
   "version": "3.7.4"
  }
 },
 "nbformat": 4,
 "nbformat_minor": 2
}
